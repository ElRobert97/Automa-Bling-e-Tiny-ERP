{
 "cells": [
  {
   "cell_type": "code",
   "execution_count": 1,
   "metadata": {},
   "outputs": [],
   "source": [
    "import pandas as pd\n",
    "from selenium import webdriver\n",
    "from selenium.webdriver.chrome.service import Service\n",
    "from webdriver_manager.chrome import ChromeDriverManager\n",
    "from selenium.webdriver.common.by import By\n",
    "from selenium.common.exceptions import NoSuchElementException\n",
    "from selenium.webdriver.support.select import Select\n",
    "from selenium.webdriver.support.ui import WebDriverWait\n",
    "from selenium.webdriver.support import expected_conditions as EC\n",
    "from datetime import datetime\n",
    "import re\n",
    "import locale\n",
    "from time import sleep\n",
    "\n",
    "# Define o locale para português\n",
    "locale.setlocale(locale.LC_TIME, 'pt_BR.UTF-8')\n",
    "\n",
    "login = r'belevematriz@agoradeulucro.com'\n",
    "senha = r'Agoradeulucr0.'\n",
    "categoria = r'Vendas E-commerce'\n",
    "planilha = r'Beleve_Amazon.csv'\n",
    "amazon = pd.read_csv(planilha, skiprows=7)\n",
    "\n"
   ]
  },
  {
   "cell_type": "markdown",
   "metadata": {},
   "source": [
    "Funções"
   ]
  },
  {
   "cell_type": "code",
   "execution_count": 2,
   "metadata": {},
   "outputs": [],
   "source": [
    "def transformar_hora(data_str):\n",
    "        if len(data_str) == 33:\n",
    "            data_str = data_str[:18]\n",
    "        else:\n",
    "            data_str = data_str[:17]\n",
    "        data_str = data_str.replace('.', '')\n",
    "        sub_data = re.sub(r'(\\b\\d{1}\\b)( de \\w+ de \\d{4})', r'0\\1\\2', data_str)\n",
    "        sub_data = sub_data.strip()\n",
    "        \n",
    "        # Converte a string para datetime\n",
    "        \n",
    "        data_obj = datetime.strptime(sub_data, \"%d de %b de %Y\").date()\n",
    "    \n",
    "        data_nova = datetime.strftime(data_obj, '%d/%m/%Y')\n",
    "\n",
    "        return data_nova\n",
    "    \n",
    "    \n",
    "def processar_pedidos(pedidos, navegador):\n",
    "    nao_encontrados = {'Pedidos':[]\n",
    "                       }\n",
    "    # Pré-localizar elementos fixos que não mudam com cada iteração\n",
    "    barra_pesquisa = navegador.find_element(By.XPATH, '//*[@id=\"pesquisa-mini\"]')\n",
    "    botao_pesquisa_xpath = '//*[@id=\"container-filtros\"]/div/span[1]'\n",
    "    calendario_xpath = '/html/body/div[1]/div/div/div/div[2]/form/div[2]/div[2]/div/input'\n",
    "    botao_receber_xpath = '/html/body/div[11]/ul/li[1]/a'\n",
    "    salvar_bordero_xpath = '//*[@id=\"salvarBordero\"]'\n",
    "    \n",
    "    for _, row in pedidos.iterrows():\n",
    "        pedido = row['id do pedido']\n",
    "        data = row['data/hora']\n",
    "        \n",
    "        # Limpar e inserir o pedido na barra de pesquisa\n",
    "        barra_pesquisa.clear()\n",
    "        barra_pesquisa.send_keys(pedido)\n",
    "        navegador.find_element(By.XPATH, botao_pesquisa_xpath).click()\n",
    "        sleep(5)\n",
    "        \n",
    "        try:\n",
    "            # Verificar se a página retornou resultados\n",
    "            pagina_vazia = navegador.find_element(By.XPATH, '//*[@id=\"page-wrapper\"]/div[4]/div[2]/div[1]/div/h4')\n",
    "            if 'Sua pesquisa não retornou resultados.' in pagina_vazia.text:\n",
    "                nao_encontrados['Pedidos'].append(pedido)\n",
    "                sleep(2)\n",
    "                continue\n",
    "        except NoSuchElementException:\n",
    "            # Elemento não encontrado, prosseguir com as ações\n",
    "            WebDriverWait(navegador, 10).until(\n",
    "                EC.visibility_of_element_located((By.XPATH, '/html/body/div[6]/div/div[4]/div[2]/div[2]/div/div[1]/form/table/tbody/tr/td[2]/button'))\n",
    "            ).click()\n",
    "            \n",
    "            \n",
    "            # Verifica se o botão de receber está presente e clica nele\n",
    "            botao_receber = WebDriverWait(navegador, 10).until(\n",
    "                EC.visibility_of_element_located((By.XPATH, botao_receber_xpath))\n",
    "            )\n",
    "            if botao_receber.is_displayed():\n",
    "                botao_receber.click()\n",
    "                sleep(3)\n",
    "            \n",
    "            # Selecionar \"Amazon\" na conta contábil\n",
    "            caixa_amazon = Select(navegador.find_element(By.ID, 'idContaContabil'))\n",
    "            caixa_amazon.select_by_visible_text('Amazon')\n",
    "            \n",
    "            # Selecionar \"Vendas E-commerce\" na categoria\n",
    "            categoria_vendas = Select(navegador.find_element(By.ID, 'idCategoria'))\n",
    "            categoria_vendas.select_by_visible_text(categoria)\n",
    "            \n",
    "            # Limpar e inserir a data no calendário\n",
    "            calendario = navegador.find_element(By.XPATH, calendario_xpath)\n",
    "            calendario.clear()\n",
    "            calendario.send_keys(data)\n",
    "            \n",
    "            # Clicar em \"Salvar\"\n",
    "            navegador.find_element(By.XPATH, salvar_bordero_xpath).click()\n",
    "            sleep(2)\n",
    "    df_naoencontrados = pd.DataFrame(nao_encontrados)\n",
    "    df_naoencontrados.to_excel('Pedidos nao encontrados.xlsx', index=False)"
   ]
  },
  {
   "cell_type": "markdown",
   "metadata": {},
   "source": [
    "Filtrando a planilha"
   ]
  },
  {
   "cell_type": "code",
   "execution_count": 3,
   "metadata": {},
   "outputs": [
    {
     "name": "stderr",
     "output_type": "stream",
     "text": [
      "C:\\Users\\Contler Elias\\AppData\\Local\\Temp\\ipykernel_10864\\1211599714.py:4: SettingWithCopyWarning: \n",
      "A value is trying to be set on a copy of a slice from a DataFrame.\n",
      "Try using .loc[row_indexer,col_indexer] = value instead\n",
      "\n",
      "See the caveats in the documentation: https://pandas.pydata.org/pandas-docs/stable/user_guide/indexing.html#returning-a-view-versus-a-copy\n",
      "  pedidos_filtrados['data/hora'] = pedidos_filtrados['data/hora'].apply(transformar_hora)\n"
     ]
    }
   ],
   "source": [
    "pedidos = amazon.loc[amazon['tipo'] == 'Pedido', :]\n",
    "pedidos_filtrados = pedidos[['data/hora', 'id do pedido']]\n",
    "    \n",
    "pedidos_filtrados['data/hora'] = pedidos_filtrados['data/hora'].apply(transformar_hora)"
   ]
  },
  {
   "cell_type": "markdown",
   "metadata": {},
   "source": [
    "Fazendo login no Tiny"
   ]
  },
  {
   "cell_type": "code",
   "execution_count": 4,
   "metadata": {},
   "outputs": [],
   "source": [
    "servico = Service(ChromeDriverManager().install())\n",
    "navegador = webdriver.Chrome(service=servico)\n",
    "\n",
    "navegador.get(r'https://erp.tiny.com.br/contas_receber')\n",
    "\n",
    "acesso_login = login\n",
    "acesso_senha = senha\n",
    "\n",
    "try:\n",
    "    sleep(5)\n",
    "    alerta = navegador.switch_to.alert\n",
    "    if alerta:\n",
    "        alerta.accept()   \n",
    "    login = navegador.find_element(By.XPATH, '//*[@id=\"kc-content-wrapper\"]/react-login/div/div/div[1]/div[1]/div[1]/form/div[1]/div/input').send_keys(acesso_login)\n",
    "    senha = navegador.find_element(By.XPATH, '//*[@id=\"kc-content-wrapper\"]/react-login/div/div/div[1]/div[1]/div[1]/form/div[2]/div/input').send_keys(acesso_senha)\n",
    "    click = navegador.find_element(By.XPATH, '//*[@id=\"kc-content-wrapper\"]/react-login/div/div/div[1]/div[1]/div[1]/form/div[3]/button').click()\n",
    "except:\n",
    "    print('Elemento nao encontrado a tempo')\n",
    "    \n",
    "    "
   ]
  },
  {
   "cell_type": "markdown",
   "metadata": {},
   "source": [
    "Filtrando o periodo no Tiny"
   ]
  },
  {
   "cell_type": "code",
   "execution_count": 5,
   "metadata": {},
   "outputs": [],
   "source": [
    "try:\n",
    "    sleep(5)\n",
    "    periodo = navegador.find_element(By.XPATH, '//*[@id=\"periodoDatas\"]').click()\n",
    "    periodo_semfiltro = navegador.find_element(By.XPATH, '//*[@id=\"opc-todas\"]').click()\n",
    "    filtro = navegador.find_element(By.XPATH, '//*[@id=\"container-filtros\"]/div/span[2]/button/span[1]/i').click()\n",
    "    filtro_historico = navegador.find_element(By.XPATH, '//*[@id=\"container-filtros\"]/div/span[2]/ul/li[5]/a').click()\n",
    "except:\n",
    "    print('Não encontrados')"
   ]
  },
  {
   "cell_type": "markdown",
   "metadata": {},
   "source": [
    "Realizando o laço no lançamento de contas"
   ]
  },
  {
   "cell_type": "code",
   "execution_count": 6,
   "metadata": {},
   "outputs": [],
   "source": [
    "processar_pedidos(pedidos_filtrados, navegador)  "
   ]
  }
 ],
 "metadata": {
  "kernelspec": {
   "display_name": "Python 3",
   "language": "python",
   "name": "python3"
  },
  "language_info": {
   "codemirror_mode": {
    "name": "ipython",
    "version": 3
   },
   "file_extension": ".py",
   "mimetype": "text/x-python",
   "name": "python",
   "nbconvert_exporter": "python",
   "pygments_lexer": "ipython3",
   "version": "3.12.4"
  }
 },
 "nbformat": 4,
 "nbformat_minor": 2
}
